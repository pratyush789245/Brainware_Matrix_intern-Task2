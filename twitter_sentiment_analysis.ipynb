{
 "cells": [
  {
   "cell_type": "markdown",
   "id": "b91f1966",
   "metadata": {},
   "source": [
    "# 🐦 Twitter Sentiment Analysis\n",
    "Analyze social media data to understand public sentiment towards specific topics, products, or events using natural language processing (NLP)."
   ]
  },
  {
   "cell_type": "code",
   "execution_count": null,
   "id": "60c5506d",
   "metadata": {},
   "outputs": [],
   "source": [
    "import pandas as pd\n",
    "import numpy as np\n",
    "import re\n",
    "import seaborn as sns\n",
    "import matplotlib.pyplot as plt\n",
    "from wordcloud import WordCloud, STOPWORDS\n",
    "from textblob import TextBlob\n",
    "from datetime import datetime\n",
    "\n",
    "sns.set(style='whitegrid')\n"
   ]
  },
  {
   "cell_type": "code",
   "execution_count": null,
   "id": "c55997e7",
   "metadata": {},
   "outputs": [],
   "source": [
    "df = pd.read_csv(\"twitter_sentiment_sample.csv\")\n",
    "df['date'] = pd.to_datetime(df['date'], errors='coerce')\n",
    "df.head()\n"
   ]
  },
  {
   "cell_type": "code",
   "execution_count": null,
   "id": "da7d126c",
   "metadata": {},
   "outputs": [],
   "source": [
    "df['sentiment'].value_counts()"
   ]
  },
  {
   "cell_type": "code",
   "execution_count": null,
   "id": "8cee1b9d",
   "metadata": {},
   "outputs": [],
   "source": [
    "def clean_text(text):\n",
    "    text = re.sub(r'http\\S+', '', text)\n",
    "    text = re.sub(r'@[A-Za-z0-9_]+', '', text)\n",
    "    text = re.sub(r'#[A-Za-z0-9_]+', '', text)\n",
    "    text = re.sub(r'[^A-Za-z\\s]', '', text)\n",
    "    text = text.lower().strip()\n",
    "    return text\n",
    "\n",
    "df['clean_text'] = df['text'].apply(clean_text)\n",
    "df[['text', 'clean_text']].head()\n"
   ]
  },
  {
   "cell_type": "code",
   "execution_count": null,
   "id": "c72f8ec8",
   "metadata": {},
   "outputs": [],
   "source": [
    "df['polarity'] = df['clean_text'].apply(lambda x: TextBlob(x).sentiment.polarity)\n",
    "df.head()\n"
   ]
  },
  {
   "cell_type": "code",
   "execution_count": null,
   "id": "81f58b6c",
   "metadata": {},
   "outputs": [],
   "source": [
    "df.set_index('date', inplace=True)\n",
    "df = df.sort_index()\n",
    "daily_sentiment = df.resample('D')['polarity'].mean()\n",
    "\n",
    "plt.figure(figsize=(14, 5))\n",
    "daily_sentiment.plot(title='📈 Average Tweet Sentiment Over Time')\n",
    "plt.xlabel('Date')\n",
    "plt.ylabel('Average Polarity')\n",
    "plt.show()\n"
   ]
  },
  {
   "cell_type": "code",
   "execution_count": null,
   "id": "a0958a5f",
   "metadata": {},
   "outputs": [],
   "source": [
    "def generate_wordcloud(text_data, title):\n",
    "    wordcloud = WordCloud(stopwords=STOPWORDS, background_color='white',\n",
    "                          max_words=200, width=800, height=400).generate(' '.join(text_data))\n",
    "    plt.figure(figsize=(10, 5))\n",
    "    plt.imshow(wordcloud, interpolation='bilinear')\n",
    "    plt.axis('off')\n",
    "    plt.title(title, fontsize=16)\n",
    "    plt.show()\n",
    "\n",
    "generate_wordcloud(df[df['sentiment'] == 'positive']['clean_text'], '☀️ Positive Tweets')\n",
    "generate_wordcloud(df[df['sentiment'] == 'negative']['clean_text'], '🌧️ Negative Tweets')\n"
   ]
  },
  {
   "cell_type": "code",
   "execution_count": null,
   "id": "bf411f0c",
   "metadata": {},
   "outputs": [],
   "source": [
    "sns.countplot(data=df.reset_index(), x='sentiment', palette='Set2')\n",
    "plt.title('🔢 Sentiment Class Distribution')\n",
    "plt.xlabel('Sentiment')\n",
    "plt.ylabel('Tweet Count')\n",
    "plt.show()\n"
   ]
  },
  {
   "cell_type": "markdown",
   "id": "f6fa4231",
   "metadata": {},
   "source": [
    "### ✅ Summary\n",
    "- Cleaned and analyzed 10,000 tweets.\n",
    "- Extracted sentiment polarity using TextBlob.\n",
    "- Visualized sentiment over time.\n",
    "- Generated word clouds for sentiment.\n",
    "\n",
    "This notebook can be extended for real-time analysis, topic filtering, or deeper NLP.\n"
   ]
  }
 ],
 "metadata": {},
 "nbformat": 4,
 "nbformat_minor": 5
}
